{
 "cells": [
  {
   "cell_type": "code",
   "execution_count": null,
   "metadata": {},
   "outputs": [],
   "source": []
  },
  {
   "cell_type": "code",
   "execution_count": 67,
   "metadata": {},
   "outputs": [],
   "source": [
    "from scipy.spatial.distance import euclidean \n",
    "from IPython.core.debugger import set_trace\n",
    "import numpy as np \n",
    "from sklearn.preprocessing import scale"
   ]
  },
  {
   "cell_type": "code",
   "execution_count": 2,
   "metadata": {},
   "outputs": [],
   "source": [
    "A = np.array([0,0,0,1,-1,2,2,0,3,0,4,-1]).reshape(-1,2) "
   ]
  },
  {
   "cell_type": "code",
   "execution_count": 68,
   "metadata": {},
   "outputs": [],
   "source": [
    "def sq_eucl_dist(x,y,sparse=True):\n",
    "        \"\"\"\n",
    "        Perform the square euclidien Distance \n",
    "        \"\"\"\n",
    "        if sparse:\n",
    "            ind = np.intersect1d(x.nonzero(),y.nonzero())\n",
    "            sq = pow((x[ind]-y[ind]),2)\n",
    "            return np.sum(sq)\n",
    "        else:\n",
    "            sq = pow((x-y),2)\n",
    "            return np.sum(sq)\n",
    "\n",
    "\n",
    "def cent_init(A , K):\n",
    "    cent_list = defaultdict()\n",
    "    index = np.arange(A.shape[0])\n",
    "    cent1 = np.random.choice(index)\n",
    "    cent_list[cent1]= A[cent1]\n",
    "    \n",
    "    while (K-len(cent_list))>0:\n",
    "        max_indece = None\n",
    "        max_dis = 0\n",
    "        for ind, el in enumerate(A):\n",
    "            dist = 0\n",
    "            if ind not in cent_list:\n",
    "                for cent in cent_list:\n",
    "                        dist += sq_eucl_dist(A[cent],el)\n",
    "            if dist > max_dis:\n",
    "                max_indece = ind\n",
    "                max_dis = dist\n",
    "        cent_list[max_indece]=A[max_indece]\n",
    "                    \n",
    "    return cent_list\n",
    "                \n",
    "from collections import defaultdict\n",
    "\n",
    "def k_mean(A,init):\n",
    "    kluster_list = list(init.keys())\n",
    "    cluster_element = defaultdict(list)\n",
    "    J_clust = 0\n",
    "    for num, el in enumerate(A):\n",
    "        list_dist = []\n",
    "        for kluster in kluster_list:\n",
    "            list_dist.append(sq_eucl_dist(el,init[kluster]))\n",
    "        close_clt = np.argmin(list_dist)\n",
    "        J_clust += min(list_dist)\n",
    "        cluster_element[kluster_list[close_clt]].append(num)\n",
    "    return cluster_element, J_clust/(A.shape[0])\n",
    "\n",
    "\n",
    "def mean_(x):\n",
    "    return np.mean(x,axis=0)\n",
    "\n",
    "def Weizfeld_median(A, max_iter):\n",
    "    \"Return the geometric median \"\n",
    "    mu_0 = mean_(A)\n",
    "    for it in range(max_iter):\n",
    "        t = np.array(list(sum(x) for x in zip(*np.array([x*np.sqrt(sq_eucl_dist(x,mu_0))**(-1) for x in A]))))\n",
    "        mu =t/ sum(np.sqrt(sq_eucl_dist(x,mu_0))**(-1) for x in A)\n",
    "        if abs(sum(mu_0-mu)) < 10**(-10):\n",
    "            return mu\n",
    "        mu_0 = mu\n",
    "    return mu\n",
    "\n",
    "def comput_centroid(A, cluster_list, geom_median=True,max_iter=1000):\n",
    "    \"\"\"\n",
    "    This compute the entroide of the clusters\n",
    "    if geom_median is set to True: it computs the geometric median \n",
    "    otherwise the mean is calculted \n",
    "    \"\"\"\n",
    "    centroid_value = defaultdict()\n",
    "    if geom_median:\n",
    "        for centroid, element in cluster_list.items():\n",
    "            if len(element)>1:\n",
    "                mu = Weizfeld_median(A[element].squeeze(), max_iter)\n",
    "                centroid_value[centroid]= mu\n",
    "            else:\n",
    "                centroid_value[centroid]= A[centroid]\n",
    "        return centroid_value\n",
    "    \n",
    "    for centroid, element in cluster_list.items():\n",
    "        if len(element)>1:\n",
    "            mu = mean_(A[element].squeeze())\n",
    "            centroid_value[centroid]= mu\n",
    "        else:\n",
    "            centroid_value[centroid]= A[centroid]\n",
    "    return centroid_value\n",
    "\n",
    "\n",
    "def train(A,K, thresold=10**(-60)):\n",
    "    initial = cent_init(A,K)\n",
    "    converg = True\n",
    "    distortion = []\n",
    "    it = 0\n",
    "    while converg:\n",
    "        centroid, J_clt = k_mean(A, initial)\n",
    "        new = comput_centroid(A, centroid)\n",
    "        distortion.append(J_clt)\n",
    "        sum_cent = 0\n",
    "        for cent in list(new.keys()):\n",
    "            a = np.array(initial[cent])\n",
    "            b= np.array(new[cent])\n",
    "            sum_cent += sum(abs(a-b))\n",
    "        if sum_cent< thresold:\n",
    "            converg=False\n",
    "            print('initial',new)\n",
    "            print(\"converge\")\n",
    "        initial = new\n",
    "        it +=1\n",
    "    return initial, centroid\n",
    "        \n",
    "        \n",
    "    \n",
    "    \n",
    "\n"
   ]
  },
  {
   "cell_type": "code",
   "execution_count": 69,
   "metadata": {},
   "outputs": [
    {
     "data": {
      "text/plain": [
       "9"
      ]
     },
     "execution_count": 69,
     "metadata": {},
     "output_type": "execute_result"
    }
   ],
   "source": [
    "sq_eucl_dist(A[2],A[3])"
   ]
  },
  {
   "cell_type": "code",
   "execution_count": 70,
   "metadata": {},
   "outputs": [],
   "source": [
    "def normilize(x):\n",
    "    mean = np.mean(x, axis=0)\n",
    "    std = np.std(x,axis=0)\n",
    "    return (x-mean)/std"
   ]
  },
  {
   "cell_type": "code",
   "execution_count": 72,
   "metadata": {},
   "outputs": [],
   "source": [
    "A_sc = normilize(A)"
   ]
  },
  {
   "cell_type": "code",
   "execution_count": 73,
   "metadata": {},
   "outputs": [
    {
     "name": "stderr",
     "output_type": "stream",
     "text": [
      "/Users/souayboubagayoko/anaconda3/lib/python3.7/site-packages/sklearn/utils/validation.py:595: DataConversionWarning: Data with input dtype int64 was converted to float64 by the scale function.\n",
      "  warnings.warn(msg, DataConversionWarning)\n"
     ]
    }
   ],
   "source": [
    "A_sk = scale(A, axis=0, with_mean=True, with_std=True, copy=True)"
   ]
  },
  {
   "cell_type": "code",
   "execution_count": 74,
   "metadata": {},
   "outputs": [
    {
     "data": {
      "text/plain": [
       "array([[-0.74278135, -0.35355339],\n",
       "       [-0.74278135,  0.70710678],\n",
       "       [-1.29986737,  1.76776695],\n",
       "       [ 0.37139068, -0.35355339],\n",
       "       [ 0.92847669, -0.35355339],\n",
       "       [ 1.48556271, -1.41421356]])"
      ]
     },
     "execution_count": 74,
     "metadata": {},
     "output_type": "execute_result"
    }
   ],
   "source": [
    "A_sc"
   ]
  },
  {
   "cell_type": "code",
   "execution_count": 75,
   "metadata": {},
   "outputs": [
    {
     "data": {
      "text/plain": [
       "array([[-0.74278135, -0.35355339],\n",
       "       [-0.74278135,  0.70710678],\n",
       "       [-1.29986737,  1.76776695],\n",
       "       [ 0.37139068, -0.35355339],\n",
       "       [ 0.92847669, -0.35355339],\n",
       "       [ 1.48556271, -1.41421356]])"
      ]
     },
     "execution_count": 75,
     "metadata": {},
     "output_type": "execute_result"
    }
   ],
   "source": [
    "A_sk"
   ]
  },
  {
   "cell_type": "code",
   "execution_count": 59,
   "metadata": {},
   "outputs": [
    {
     "data": {
      "text/plain": [
       "[array([0]), array([0]), array([-1]), array([2]), array([3]), array([4])]"
      ]
     },
     "execution_count": 59,
     "metadata": {},
     "output_type": "execute_result"
    }
   ],
   "source": [
    "lout2"
   ]
  },
  {
   "cell_type": "code",
   "execution_count": 60,
   "metadata": {},
   "outputs": [
    {
     "data": {
      "text/plain": [
       "[array([0]), array([0]), array([-1]), array([2]), array([3]), array([4])]"
      ]
     },
     "execution_count": 60,
     "metadata": {},
     "output_type": "execute_result"
    }
   ],
   "source": [
    "lout1"
   ]
  },
  {
   "cell_type": "code",
   "execution_count": 62,
   "metadata": {},
   "outputs": [
    {
     "data": {
      "text/plain": [
       "array([[ 0,  0, -1,  2,  3,  4],\n",
       "       [ 0,  1,  2,  0,  0, -1]])"
      ]
     },
     "execution_count": 62,
     "metadata": {},
     "output_type": "execute_result"
    }
   ],
   "source": [
    "A.T"
   ]
  },
  {
   "cell_type": "code",
   "execution_count": null,
   "metadata": {},
   "outputs": [],
   "source": []
  }
 ],
 "metadata": {
  "kernelspec": {
   "display_name": "Python 3",
   "language": "python",
   "name": "python3"
  },
  "language_info": {
   "codemirror_mode": {
    "name": "ipython",
    "version": 3
   },
   "file_extension": ".py",
   "mimetype": "text/x-python",
   "name": "python",
   "nbconvert_exporter": "python",
   "pygments_lexer": "ipython3",
   "version": "3.7.1"
  }
 },
 "nbformat": 4,
 "nbformat_minor": 2
}
